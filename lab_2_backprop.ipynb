{
  "cells": [
    {
      "cell_type": "markdown",
      "metadata": {
        "id": "view-in-github",
        "colab_type": "text"
      },
      "source": [
        "<a href=\"https://colab.research.google.com/github/tjtyler/MachLearn_MultiLayerPerceptron_BackProp/blob/main/lab_2_backprop.ipynb\" target=\"_parent\"><img src=\"https://colab.research.google.com/assets/colab-badge.svg\" alt=\"Open In Colab\"/></a>"
      ]
    },
    {
      "cell_type": "markdown",
      "metadata": {
        "id": "DVL7_bgmIAPR"
      },
      "source": [
        "# Backpropagation Lab\n",
        "\n",
        "\n",
        "\n"
      ]
    },
    {
      "cell_type": "code",
      "execution_count": null,
      "metadata": {
        "id": "6ZbYjZZZ_yLV"
      },
      "outputs": [],
      "source": [
        "from sklearn.base import BaseEstimator, ClassifierMixin\n",
        "from sklearn.neural_network import MLPClassifier\n",
        "import numpy as np\n",
        "import matplotlib.pyplot as plt\n"
      ]
    },
    {
      "cell_type": "code",
      "source": [
        "from google.colab import drive\n",
        "drive.mount('/content/drive')"
      ],
      "metadata": {
        "colab": {
          "base_uri": "https://localhost:8080/"
        },
        "id": "EWMWTgeiJWJ4",
        "outputId": "4b4f4f38-5705-4bd0-d0d5-a1da60379861"
      },
      "execution_count": null,
      "outputs": [
        {
          "output_type": "stream",
          "name": "stdout",
          "text": [
            "Mounted at /content/drive\n"
          ]
        }
      ]
    },
    {
      "cell_type": "markdown",
      "source": [
        "Debug Data = $\\begin{bmatrix} -0.4 & 0.3 & 1 \\\\ -0.3 & 0.8 & 1\\\\ \n",
        "-0.2 & 0.3 & 1\\\\ -0.1 & 0.9 & 1\\\\ -0.1 & 0.1 & 0\\\\ 0.0 & -0.2 & 0\\\\ 0.1 & 0.2 & 0\\\\ 0.2 & -0.2 & 0\\end{bmatrix}$\n",
        "\n",
        "$net_{node} = w_{layer} \\cdot x$\n",
        "\n",
        "$z_{node} = \\frac{1}{1+e^{net}}$\n",
        "\n",
        "$\\delta_{w_{pq}} = $"
      ],
      "metadata": {
        "id": "xnocHDpkTCv7"
      }
    },
    {
      "cell_type": "code",
      "source": [
        "def sigmoid(net):\n",
        "  \"\"\"The sigmoid function.\"\"\"\n",
        "  return 1.0/(1.0+np.exp(-net))"
      ],
      "metadata": {
        "id": "USpniuxk9tDx"
      },
      "execution_count": null,
      "outputs": []
    },
    {
      "cell_type": "code",
      "source": [
        "lr = 0.1\n",
        "input1 = np.array([-.4,.3,1])\n",
        "first_set_wts = np.array([[0,0,0,0],[0,0,0,0],[0,0,0,0]])\n",
        "second_set_wts = np.array([[0,0],[0,0],[0,0],[0,0],[0,0]])\n",
        "nets_lay1 = np.matmul(input1,first_set_wts)\n",
        "print('nets at hidden layer:\\n',nets_lay1)\n",
        "v_sigmoid = np.vectorize(sigmoid)\n",
        "outputs_lay1 = v_sigmoid(nets_lay1)\n",
        "print('outputs of hidden layer:\\n',outputs_lay1)\n",
        "outputs_lay1_with_bias = np.concatenate((outputs_lay1,np.array([1])))\n",
        "print('outputs of hidden layer with bias', outputs_lay1_with_bias)\n",
        "nets_outNodes = np.matmul(outputs_lay1_with_bias, second_set_wts)\n",
        "print('nets at output nodes', nets_outNodes)\n",
        "outputs_outNodes = v_sigmoid(nets_outNodes)\n",
        "print('outputs at output nodes',outputs_outNodes)\n",
        "target_vec = np.array([0,1])\n",
        "error_at_output_nodes = (target_vec - outputs_outNodes)*outputs_outNodes*(1-outputs_outNodes)\n",
        "print('errors at output nodes',error_at_output_nodes)\n",
        "second_set_wts_no_bias = second_set_wts[:-1,:]\n",
        "w_dot_delta = np.matmul(second_set_wts_no_bias,error_at_output_nodes)\n",
        "errors_at_hidden_nodes = (outputs_lay1*(1-outputs_lay1)).reshape(outputs_lay1.shape[0],1)*(w_dot_delta.reshape(w_dot_delta.shape[0],1))\n",
        "print('errors_at_hidden_nodes\\n', errors_at_hidden_nodes)\n",
        "delta_wts_second_set = lr*error_at_output_nodes*outputs_lay1_with_bias.reshape(outputs_lay1_with_bias.shape[0],1)\n",
        "print('delta_wts_second_set\\n',delta_wts_second_set)\n",
        "print('lr', lr)\n",
        "print('errors_at_hidden_nodes', errors_at_hidden_nodes)\n",
        "print('input1', input1)\n",
        "delta_wts_first_set = lr*input1.reshape(input1.shape[0],1)*errors_at_hidden_nodes.flatten()\n",
        "print('delta_wts_first_set \\n',delta_wts_first_set)\n",
        "first_set_wts = first_set_wts + delta_wts_first_set\n",
        "print('new first set of weights\\n', first_set_wts)\n",
        "second_set_wts = second_set_wts + delta_wts_second_set\n",
        "print('new second set of weights\\n', second_set_wts)\n",
        "\n",
        "\n",
        "print('\\n\\nNEW TRAINING INSTANCE')\n",
        "lr = 0.1\n",
        "input1 = np.array([-.3,.8,1])\n",
        "nets_lay1 = np.matmul(input1,first_set_wts)\n",
        "print('nets at hidden layer:\\n',nets_lay1)\n",
        "v_sigmoid = np.vectorize(sigmoid)\n",
        "outputs_lay1 = v_sigmoid(nets_lay1)\n",
        "print('outputs of hidden layer:\\n',outputs_lay1)\n",
        "outputs_lay1_with_bias = np.concatenate((outputs_lay1,np.array([1])))\n",
        "print('outputs of hidden layer with bias', outputs_lay1_with_bias)\n",
        "nets_outNodes = np.matmul(outputs_lay1_with_bias, second_set_wts)\n",
        "print('nets at output nodes', nets_outNodes)\n",
        "outputs_outNodes = v_sigmoid(nets_outNodes)\n",
        "print('outputs at output nodes',outputs_outNodes)\n",
        "target_vec = np.array([0,1])\n",
        "error_at_output_nodes = (target_vec - outputs_outNodes)*outputs_outNodes*(1-outputs_outNodes)\n",
        "print('errors at output nodes',error_at_output_nodes)\n",
        "second_set_wts_no_bias = second_set_wts[:-1,:]\n",
        "w_dot_delta = np.matmul(second_set_wts_no_bias,error_at_output_nodes)\n",
        "errors_at_hidden_nodes = (outputs_lay1*(1-outputs_lay1)).reshape(outputs_lay1.shape[0],1)*(w_dot_delta.reshape(w_dot_delta.shape[0],1))\n",
        "print('errors_at_hidden_nodes\\n', errors_at_hidden_nodes)\n",
        "delta_wts_second_set = lr*error_at_output_nodes*outputs_lay1_with_bias.reshape(outputs_lay1_with_bias.shape[0],1)\n",
        "print('delta_wts_second_set\\n',delta_wts_second_set)\n",
        "print('lr', lr)\n",
        "print('errors_at_hidden_nodes', errors_at_hidden_nodes)\n",
        "print('input1', input1)\n",
        "delta_wts_first_set = lr*input1.reshape(input1.shape[0],1)*errors_at_hidden_nodes.flatten()\n",
        "print('delta_wts_first_set \\n',delta_wts_first_set)\n",
        "first_set_wts = first_set_wts + delta_wts_first_set\n",
        "print('new first set of weights\\n', first_set_wts)\n",
        "second_set_wts = second_set_wts + delta_wts_second_set\n",
        "print('new second set of weights\\n', second_set_wts)"
      ],
      "metadata": {
        "colab": {
          "base_uri": "https://localhost:8080/"
        },
        "id": "OWyBdM7UDdBn",
        "outputId": "21e102da-b164-48a0-f7d9-8da837e3e35f"
      },
      "execution_count": 49,
      "outputs": [
        {
          "output_type": "stream",
          "name": "stdout",
          "text": [
            "nets at hidden layer:\n",
            " [0. 0. 0. 0.]\n",
            "outputs of hidden layer:\n",
            " [0.5 0.5 0.5 0.5]\n",
            "outputs of hidden layer with bias [0.5 0.5 0.5 0.5 1. ]\n",
            "nets at output nodes [0. 0.]\n",
            "outputs at output nodes [0.5 0.5]\n",
            "errors at output nodes [-0.125  0.125]\n",
            "errors_at_hidden_nodes\n",
            " [[0.]\n",
            " [0.]\n",
            " [0.]\n",
            " [0.]]\n",
            "delta_wts_second_set\n",
            " [[-0.00625  0.00625]\n",
            " [-0.00625  0.00625]\n",
            " [-0.00625  0.00625]\n",
            " [-0.00625  0.00625]\n",
            " [-0.0125   0.0125 ]]\n",
            "lr 0.1\n",
            "errors_at_hidden_nodes [[0.]\n",
            " [0.]\n",
            " [0.]\n",
            " [0.]]\n",
            "input1 [-0.4  0.3  1. ]\n",
            "delta_wts_first_set \n",
            " [[-0. -0. -0. -0.]\n",
            " [ 0.  0.  0.  0.]\n",
            " [ 0.  0.  0.  0.]]\n",
            "new first set of weights\n",
            " [[0. 0. 0. 0.]\n",
            " [0. 0. 0. 0.]\n",
            " [0. 0. 0. 0.]]\n",
            "new second set of weights\n",
            " [[-0.00625  0.00625]\n",
            " [-0.00625  0.00625]\n",
            " [-0.00625  0.00625]\n",
            " [-0.00625  0.00625]\n",
            " [-0.0125   0.0125 ]]\n",
            "\n",
            "\n",
            "NEW TRAINING INSTANCE\n",
            "nets at hidden layer:\n",
            " [0. 0. 0. 0.]\n",
            "outputs of hidden layer:\n",
            " [0.5 0.5 0.5 0.5]\n",
            "outputs of hidden layer with bias [0.5 0.5 0.5 0.5 1. ]\n",
            "nets at output nodes [-0.025  0.025]\n",
            "outputs at output nodes [0.49375033 0.50624967]\n",
            "errors at output nodes [-0.1234183  0.1234183]\n",
            "errors_at_hidden_nodes\n",
            " [[0.00038568]\n",
            " [0.00038568]\n",
            " [0.00038568]\n",
            " [0.00038568]]\n",
            "delta_wts_second_set\n",
            " [[-0.00617091  0.00617091]\n",
            " [-0.00617091  0.00617091]\n",
            " [-0.00617091  0.00617091]\n",
            " [-0.00617091  0.00617091]\n",
            " [-0.01234183  0.01234183]]\n",
            "lr 0.1\n",
            "errors_at_hidden_nodes [[0.00038568]\n",
            " [0.00038568]\n",
            " [0.00038568]\n",
            " [0.00038568]]\n",
            "input1 [-0.3  0.8  1. ]\n",
            "delta_wts_first_set \n",
            " [[-1.15704653e-05 -1.15704653e-05 -1.15704653e-05 -1.15704653e-05]\n",
            " [ 3.08545741e-05  3.08545741e-05  3.08545741e-05  3.08545741e-05]\n",
            " [ 3.85682176e-05  3.85682176e-05  3.85682176e-05  3.85682176e-05]]\n",
            "new first set of weights\n",
            " [[-1.15704653e-05 -1.15704653e-05 -1.15704653e-05 -1.15704653e-05]\n",
            " [ 3.08545741e-05  3.08545741e-05  3.08545741e-05  3.08545741e-05]\n",
            " [ 3.85682176e-05  3.85682176e-05  3.85682176e-05  3.85682176e-05]]\n",
            "new second set of weights\n",
            " [[-0.01242091  0.01242091]\n",
            " [-0.01242091  0.01242091]\n",
            " [-0.01242091  0.01242091]\n",
            " [-0.01242091  0.01242091]\n",
            " [-0.02484183  0.02484183]]\n"
          ]
        }
      ]
    },
    {
      "cell_type": "markdown",
      "metadata": {
        "id": "sCcEPx5VIORj"
      },
      "source": [
        "## 1. (40%) Correctly implement and submit your own code for the backpropagation algorithm. \n",
        "\n",
        "## Code requirements \n",
        "- Ability to create a network structure with at least one hidden layer and an arbitrary number of nodes.\n",
        "- Random weight initialization with small random weights with mean of 0 and a variance of 1.\n",
        "- Use Stochastic/On-line training updates: Iterate and update weights after each training instance (i.e., do not attempt batch updates)\n",
        "- Implement a validation set based stopping criterion.\n",
        "- Shuffle training set at each epoch.\n",
        "- Option to include a momentum term\n",
        "\n",
        "Use your Backpropagation algorithm to solve the Debug data. We provide you with several parameters, and you should be able to replicate our results every time. When you are confident it is correct, run your script on the Evaluation data with the same parameters, and print your final weights."
      ]
    },
    {
      "cell_type": "markdown",
      "source": [
        "![C405F097-5FAD-43AA-B5F1-FF947B08F884.jpeg](data:image/jpeg;base64,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)"
      ],
      "metadata": {
        "id": "b6Dr1BhTd2O4"
      }
    },
    {
      "cell_type": "markdown",
      "source": [
        "My weight matrix is set up like this: (for a network with 2 input nodes, 1 hidden layer with 4 nodes, and 2 output nodes), the first layer of weight would look like this:\n",
        "\n",
        "$\\begin{bmatrix} w_{14} & w_{15} & w_{16} & w_{17} \\\\ w_{24} & w_{25} & w_{26} & w_{27} \\\\ \n",
        "w_{34} & w_{35} & w_{36} & w_{37}\\end{bmatrix}$\n",
        "\n",
        "where $w_{14}$ means the weight from node 1 to node 4\n",
        "\n",
        "The nets at the 4 hidden nodes are found by doing this: \n",
        "\n",
        "$\\begin{bmatrix} x_{1} & x_{2} & b_{3} \\end{bmatrix}$ $\\begin{bmatrix} w_{14} & w_{15} & w_{16} & w_{17} \\\\ w_{24} & w_{25} & w_{26} & w_{27} \\\\ \n",
        "w_{34} & w_{35} & w_{36} & w_{37}\\end{bmatrix}$"
      ],
      "metadata": {
        "id": "hJeRtH4uVHS1"
      }
    },
    {
      "cell_type": "code",
      "source": [
        "from os import get_terminal_size\n",
        "from typing_extensions import ParamSpecKwargs\n",
        "class MLP(BaseEstimator,ClassifierMixin):\n",
        "\n",
        "    def __init__(self, arch, epochs, lr=.1, momentum=0, shuffle=True,):\n",
        "        \"\"\" Initialize class with chosen hyperparameters.\n",
        "\n",
        "        Args:\n",
        "            arch: a list of nodes at each layer, including the inputs and outputs, but not including bias nodes\n",
        "            epochs: the number of epochs to run the fit function \n",
        "            lr (float): A learning rate / step size.\n",
        "            shuffle(boolean): Whether to shuffle the training data each epoch. DO NOT SHUFFLE for evaluation / debug datasets.\n",
        "            momentum(float): The momentum coefficent \n",
        "        Example:\n",
        "            mlp = MLP(lr=.2,momentum=.5,shuffle=False,hidden_layer_widths = [3,3]),  <--- this will create a model with two hidden layers, both 3 nodes wide\n",
        "        \"\"\"\n",
        "        self.arch = arch # [2,2,1] means 2 inputs, 1 hidden layer with 2 nodes, and 1 output\n",
        "        self.epochs = epochs\n",
        "        self.lr = lr\n",
        "        self.momentum = momentum\n",
        "        self.shuffle = shuffle\n",
        "        self.layer_wts =[] # list of numpy matrices or vectors with the first element being the weights between the inputs and the first hidden layer, the second element being the weights between the first and second hidden layers, etc.\n",
        "        self.layer_prev_wts = None\n",
        "        self.accuracies = []\n",
        "\n",
        "                      # EXAMPLE 1 DEBUG\n",
        "    def fit(self, X, y, epochs_no_change=11, tol=0.01, default_wts=False, initial_wts=0):\n",
        "        \"\"\" Fit the data; run the algorithm and adjust the weights to find a good solution\n",
        "\n",
        "        Args:\n",
        "            X (array-like): A 2D numpy array with the training data, excluding targets\n",
        "            y (array-like): A 2D numpy array with the training targets\n",
        "        Optional Args (Args we think will make your life easier):\n",
        "            initial_weights (array-like): allows the user to provide initial weights\n",
        "        Returns:\n",
        "            self: this allows this to be chained, e.g. model.fit(X,y).predict(X_test)\n",
        "\n",
        "        \"\"\"\n",
        "        self.X = X\n",
        "        self.y = y\n",
        "\n",
        "        v_sigmoid = np.vectorize(sigmoid) # this converts the sigmoid function to a function that that can take a vector and apply the function to it\n",
        "\n",
        "        if default_wts:\n",
        "          self.layer_wts = self.initialize_weights()\n",
        "        else:\n",
        "          self.layer_wts = self.initialize_weights_with_value(initial_wts)\n",
        "\n",
        "        #--------------weight initialization working correctly------------------\n",
        "\n",
        "        delta_wts = self.initialize_weights_with_value(0)\n",
        "        self.layer_prev_wts = self.initialize_weights_with_value(0)\n",
        "        self.cur_epoch = 0\n",
        "        num_epoch_no_change = 0\n",
        "        last_score = None\n",
        "        while self.cur_epoch < self.epochs and num_epoch_no_change < epochs_no_change:\n",
        "          # print('\\n\\nEPOCH: ', self.cur_epoch)\n",
        "          # if self.cur_epoch == 1:\n",
        "            # print('self.layer_prev_wts \\n',self.layer_prev_wts)\n",
        "          X_bias = None # this will be the input matrix with a column of 1s concatenated for the bias\n",
        "          if self.shuffle:\n",
        "            self._shuffle_data(self.X, self.y)\n",
        "          bias = np.ones((self.X.shape[0],1)) # bias vector of ones\n",
        "          X_bias = np.concatenate((self.X,bias), axis=1) # set X = X_shuffled with bias concatenated\n",
        "\n",
        "          #---------------------------------------------------------------------\n",
        "          # FOR EACH TRAINING INSTANCE\n",
        "          for row in range(X_bias.shape[0]):\n",
        "            # print('\\nTRAINING INSTANCE:', row+1)\n",
        "            Zs_by_layer = []\n",
        "            nets_by_layer = []\n",
        "            node_errors_by_layer = []\n",
        "            \n",
        "            # FORWARD-FEED\n",
        "            for lay in range(0, len(self.layer_wts)):\n",
        "              if lay == 0:\n",
        "                net = np.matmul(X_bias[row], self.layer_wts[lay])\n",
        "                nets_by_layer.append(net)\n",
        "                Zs_lay = v_sigmoid(net)\n",
        "                Zs_by_layer.append(Zs_lay)\n",
        "              else:\n",
        "                Zs_by_layer[lay-1] = np.insert(Zs_by_layer[lay-1],Zs_by_layer[lay-1].shape[0],[1]) # add a one to the Zs_by_layer for the bias\n",
        "                net = np.matmul(Zs_by_layer[lay-1], self.layer_wts[lay])\n",
        "                nets_by_layer.append(net)\n",
        "                Zs_lay = v_sigmoid(net)\n",
        "                Zs_by_layer.append(Zs_lay)\n",
        "\n",
        "            # BACK PROPAGATE\n",
        "            target_vec = self.get_target_vec(row)\n",
        "            target_vec = target_vec.flatten()\n",
        "            for lay_indx in reversed(range(0, len(self.layer_wts))): # there are (number_of_layers - 1) sets of wts\n",
        "              i = 0 # need this to access the node_erros from previous layer to calculate next layer (working backwards)\n",
        "              if lay_indx == (len(self.layer_wts) - 1): \n",
        "                # COMPUTE THE ERROR AT THE OUTPUT NODES\n",
        "                  # (target_j - z_j)*z_j*(1 - z_j)\n",
        "                OutNodes_error = (target_vec - Zs_by_layer[lay_indx])*Zs_by_layer[lay_indx]*(np.ones(Zs_by_layer[lay_indx].shape) - Zs_by_layer[lay_indx])\n",
        "                # ADD THE ERROR AT OUTPUT NODES VECTOR TO node_errors_by_layer\n",
        "                node_errors_by_layer.append(OutNodes_error)\n",
        "\n",
        "              else:\n",
        "                # CALCULATE CHANGE IN WEIGHTS BETWEEN FINAL HIDDEN LAYER AND OUTPUTS\n",
        "                  # delta_wts_ij = learning_rate * error_at_node_j * z_i\n",
        "                lr_vec_shape = node_errors_by_layer[i-1].shape\n",
        "                lr_vec = np.full(lr_vec_shape, self.lr) \n",
        "                Zs = Zs_by_layer[lay_indx]\n",
        "                Zs = Zs.reshape(Zs.shape[0],1) # make Zs a column vector\n",
        "                errors_at_nodes = node_errors_by_layer[i-1]\n",
        "                delta_wts[lay_indx+1] = Zs * lr_vec * errors_at_nodes + self.momentum*(self.layer_prev_wts[lay_indx+1])\n",
        "\n",
        "                # COMPUTE THE ERROR AT HIDDEN LAYER NODES\n",
        "                  # error_node_j = Sum(error_node_k * wt_j->k)*f_prime_net_j\n",
        "                delta_dot_w = np.matmul(self.layer_wts[lay_indx+1],node_errors_by_layer[i-1])\n",
        "                delta_dot_w = delta_dot_w[:-1] # exclude the bias node\n",
        "                  # f_prime_net = z_j*(1 - z_j)\n",
        "                f_prime_net = (Zs_by_layer[lay_indx]) * (np.ones( (Zs_by_layer[lay_indx].shape[0]) ) - Zs_by_layer[lay_indx]) \n",
        "                f_prime_net = f_prime_net[:-1] # exclude the bias node\n",
        "                # ADD THE ERROR AT HIDDEN LAYER NODES VECTOR TO node_errors_by_layer\n",
        "                node_errors_by_layer.append(np.multiply(delta_dot_w ,f_prime_net))\n",
        "\n",
        "                if lay_indx == 0:\n",
        "                  lr_vec_shape = node_errors_by_layer[-1].shape\n",
        "                  lr_vec = np.full(lr_vec_shape, self.lr) \n",
        "                  inputs = X_bias[row]\n",
        "                  inputs = inputs.reshape(inputs.shape[0],1) # make inputs a column vector\n",
        "                  errors_at_nodes = node_errors_by_layer[-1]\n",
        "\n",
        "                  delta_wts[lay_indx] = inputs * lr_vec * errors_at_nodes + self.momentum*self.layer_prev_wts[lay_indx]\n",
        "              i += 1\n",
        "\n",
        "            node_errors_by_layer.reverse()\n",
        "            for i in range(len(self.layer_wts)):\n",
        "              self.layer_wts[i] = self.layer_wts[i] + delta_wts[i]\n",
        "          \n",
        "            # print('NEW UPDATED WEIGHTS\\n', self.layer_wts)\n",
        "            self.layer_prev_wts = delta_wts.copy()\n",
        "          #---------------\n",
        "\n",
        "        \n",
        "          if self.cur_epoch == 0:\n",
        "            last_score = self.score(self.X,self.y)\n",
        "            self.accuracies.append(last_score)\n",
        "          else:\n",
        "            cur_score = self.score(self.X,self.y)\n",
        "            if ((cur_score - last_score)**2)**(1/2) < tol:\n",
        "              num_epoch_no_change +=1\n",
        "            else:\n",
        "              num_epoch_no_change = 0\n",
        "            last_score = cur_score\n",
        "            self.accuracies.append(last_score)\n",
        "          \n",
        "          self.cur_epoch +=1\n",
        "        # print('Final Weights:\\n', self.layer_wts)\n",
        "        return self\n",
        "\n",
        "    def get_target_vec(self,row):\n",
        "      # THIS RETURNS A COLUMN VECTOR\n",
        "      target_value = int(self.y[row][0])\n",
        "      target_vector = np.zeros(shape=(self.arch[-1],1))\n",
        "      target_vector[target_value][0] = 1\n",
        "      return target_vector\n",
        "      \n",
        "\n",
        "    def predict(self, X):\n",
        "        \"\"\" \n",
        "            Predict all classes for a dataset X\n",
        "        Args:\n",
        "            X (array-like): A 2D numpy array with the training data, excluding \n",
        "            targets\n",
        "        Returns:\n",
        "            array, shape (n_samples,)\n",
        "                Predicted target values per element in X.\n",
        "        \"\"\"       \n",
        "        bias = np.ones((X.shape[0],1)) # bias vector of ones\n",
        "        X_bias = np.concatenate((X,bias), axis=1) # set X = X_shuffled with bias concatenated\n",
        "        predictions = np.zeros([X.shape[0],1])\n",
        "        v_sigmoid = np.vectorize(sigmoid)\n",
        "\n",
        "        for row in range(X_bias.shape[0]):\n",
        "          Zs_by_layer = []\n",
        "          # FORWARD-FEED\n",
        "          for lay in range(0, len(self.layer_wts)):\n",
        "            if lay == 0:\n",
        "              net = np.matmul(X_bias[row], self.layer_wts[lay])\n",
        "              Zs_lay = v_sigmoid(net)\n",
        "              Zs_by_layer.append(Zs_lay)\n",
        "            else:\n",
        "              Zs_by_layer[lay-1] = np.insert(Zs_by_layer[lay-1],Zs_by_layer[lay-1].shape[0],[1]) # add a one to the Zs_by_layer for the bias\n",
        "              net = np.matmul(Zs_by_layer[lay-1], self.layer_wts[lay])\n",
        "              Zs_lay = v_sigmoid(net)\n",
        "              Zs_by_layer.append(Zs_lay) \n",
        "          predictions[row][0] = int(np.argmax(Zs_by_layer[-1]))\n",
        "        return predictions\n",
        "\n",
        "    def initialize_weights_with_value(self, val):\n",
        "      # if self.arch = [2,3,2] then the lay1_wts have a shape of (3,3) and lay2_wts a shape of (4,2)\n",
        "        wts_list = []\n",
        "        for i in range(0, len(self.arch) - 1):\n",
        "          wts_list.append(np.full((self.arch[i] + 1, self.arch[i+1]),val))\n",
        "        return wts_list\n",
        "\n",
        "    def initialize_weights(self):\n",
        "        \"\"\" Initialize weights for perceptron. Don't forget the bias!\n",
        "        Returns:\n",
        "        \"\"\"\n",
        "        # if self.arch = [2,3,2] then the lay1_wts have a shape of (3,3) and lay2_wts a shape of (4,2)\n",
        "        for i in range(0, len(self.arch) - 1):\n",
        "          self.layer_wts.append(np.random.randn(self.arch[i] + 1, self.arch[i+1]))\n",
        "        return self.layer_wts\n",
        "\n",
        "    def score(self, X, y):\n",
        "        \"\"\" \n",
        "            Return accuracy of model on a given dataset. Must implement own \n",
        "            score function.\n",
        "        Args:\n",
        "            X (array-like): A 2D numpy array with data, excluding targets\n",
        "            y (array-like): A 2D numpy array with targets\n",
        "        Returns:\n",
        "            score : float\n",
        "                Mean accuracy of self.predict(X) wrt. y.\n",
        "        \"\"\"\n",
        "        self._shuffle_data(X,y)\n",
        "        predictions = self.predict(X)\n",
        "        correct = 0\n",
        "        total = y.shape[0]\n",
        "        for i in range(0, y.shape[0]):\n",
        "          # print('np.argmax(predictions[i][0]) ', predictions[i][0])\n",
        "          # print('target value: ', y[i][0])\n",
        "          if predictions[i][0] == y[i][0]:\n",
        "            correct += 1\n",
        "        return correct/total\n",
        "\n",
        "\n",
        "    def _shuffle_data(self, X, y):\n",
        "        \"\"\" Shuffle the data! This _ prefix suggests that this method should only be called internally.\n",
        "            It might be easier to concatenate X & y and shuffle a single 2D array, rather than\n",
        "             shuffling X and y exactly the same way, independently.\n",
        "        \"\"\"\n",
        "        single_arr = np.concatenate((X,y), axis=1) # concatenate X and y into a single array\n",
        "        np.random.shuffle(single_arr) # shuffle the rows of the concatenated X-y array\n",
        "        cutoff = single_arr.shape[1] - 1 # the point to split the X and y arrays after shuffling\n",
        "        X = single_arr[:,:cutoff] # the shuffled X array\n",
        "        y = single_arr[:,cutoff:] # the shuffled y array\n",
        "\n",
        "    ### Not required by sk-learn but required by us for grading. Returns the weights.\n",
        "    def get_weights(self):\n",
        "        return self.layer_wts\n"
      ],
      "metadata": {
        "id": "V9fo9TKBXiwf"
      },
      "execution_count": 76,
      "outputs": []
    },
    {
      "cell_type": "code",
      "source": [
        "# EXAMPLE 1 (CANVAS https://byu.instructure.com/courses/14142/pages/backprop-examples)\n",
        "wts_layer1 = np.array([[.1,-.2],[.2,.3],[-.1,-.3]])\n",
        "wts_layer2 = np.array([[.1,.2],[-.2,-.1],[-.3,.3]])\n",
        "wts_layer3 = np.array([[.2,.1],[-.1,-.2],[.3,-.3]])\n",
        "\n",
        "wts = [wts_layer1, wts_layer2, wts_layer3]\n",
        "\n",
        "X = np.array([[0.3, 0.7]])\n",
        "y_2D = np.array([[.1,1.0]])\n",
        "\n",
        "mlp = MLP(arch=[2,2,2,2],epochs=1,lr=0.1,momentum=0,shuffle=False)\n",
        "mlp.fit(X=X,y=y_2D,wts=wts,epochs_no_change=11,tol=0.01,default_wts=False,initial_wts=0)"
      ],
      "metadata": {
        "id": "cMkf6GPONFFY"
      },
      "execution_count": null,
      "outputs": []
    },
    {
      "cell_type": "markdown",
      "metadata": {
        "id": "KibCIXIThpbE"
      },
      "source": [
        "## 1.1 \n",
        "\n",
        "Debug your model using the following parameters:\n",
        "\n",
        "Learning Rate = 0.1\\\n",
        "Momentum = 0.5\\\n",
        "Deterministic = 10 [This means run it 10 epochs and should be the same everytime you run it]\\\n",
        "Shuffle = False\\\n",
        "Validation size = 0\\\n",
        "Initial Weights = All zeros\\\n",
        "Hidden Layer Widths = [4]\n",
        "\n",
        "---\n",
        "\n",
        "### 1.1.1 Debug \n",
        "\n",
        "Debug your model by running it on the [Debug Dataset](https://byu.instructure.com/courses/14142/files?preview=4421290)\n",
        "\n",
        "\n",
        "Expected Results for Binary Classification (i.e. 1 output node): [debug_bp_0.csv](https://byu.instructure.com/courses/14142/files?preview=4537323) \n",
        "\n",
        "$$ \\text{Layer 1} = \\begin{bmatrix} -8.81779797\\text{e}-05 & -8.81779797\\text{e}-05 & -8.81779797\\text{e}-05 & -8.81779797\\text{e}-05 \\\\ 7.82757731\\text{e}-04 & 7.82757731\\text{e}-04 & 7.82757731\\text{e}-04 & 7.82757731\\text{e}-04 \\\\ -3.94353645\\text{e}-03 & -3.94353645\\text{e}-03 & -3.94353645\\text{e}-03 & -3.94353645\\text{e}-03 \\end{bmatrix}$$\n",
        "                                             \n",
        "$$ \\text{Layer 2} = \\begin{bmatrix} -0.01060888 \\\\ -0.01060888 \\\\ -0.01060888 \\\\ -0.01060888 \\\\ -0.02145495 \\end{bmatrix}$$\n",
        "\n",
        "(The weights do not need to be in this order or shape.)\n",
        "\n",
        "Expected Results for One Hot Vector Classification (i.e. 2 output nodes): [debug_bp_2outs.csv](https://byu.instructure.com/courses/14142/files?preview=4537340) \n",
        "\n",
        "$$ \\text{Layer 1} = \\begin{bmatrix} -0.00018149 & -0.00018149 & -0.00018149 & -0.00018149 \\\\ 0.00157468 & 0.00157468 & 0.00157468 & 0.00157468 \\\\ -0.00788218 & -0.00788218 & -0.00788218 & -0.00788218 \\end{bmatrix}$$\n",
        "                          \n",
        "$$ \\text{Layer 2} = \\begin{bmatrix} 0.01050642 & -0.01050642 \\\\ 0.01050642 & -0.01050642 \\\\ 0.01050642 & -0.01050642 \\\\ 0.01050642 & -0.01050642 \\\\ 0.02148778 & -0.02148778 \\end{bmatrix}$$\n",
        "\n",
        "(The weights do not need to be in this order or shape.)"
      ]
    },
    {
      "cell_type": "code",
      "execution_count": 78,
      "metadata": {
        "id": "KgAyy82gixIF",
        "colab": {
          "base_uri": "https://localhost:8080/"
        },
        "outputId": "49e903d6-47d3-45db-c427-2e55119bc113"
      },
      "outputs": [
        {
          "output_type": "stream",
          "name": "stdout",
          "text": [
            "weights:\n",
            " [array([[-0.00018149, -0.00018149, -0.00018149, -0.00018149],\n",
            "       [ 0.00157468,  0.00157468,  0.00157468,  0.00157468],\n",
            "       [-0.00788218, -0.00788218, -0.00788218, -0.00788218]]), array([[ 0.01050642, -0.01050642],\n",
            "       [ 0.01050642, -0.01050642],\n",
            "       [ 0.01050642, -0.01050642],\n",
            "       [ 0.01050642, -0.01050642],\n",
            "       [ 0.02148778, -0.02148778]])]\n",
            "Accuracy =  0.5\n"
          ]
        }
      ],
      "source": [
        "from scipy.io.arff import loadarff \n",
        "import pandas as pd\n",
        "# Load debug data\n",
        "\n",
        "# Train on debug data\n",
        "\n",
        "# Print weights\n",
        "\n",
        "\n",
        "# LOAD DEBUG DATA\n",
        "raw_data = loadarff('/content/drive/MyDrive/School/CS_472_MachLearning/labs/lab2_backpropagation/data/linsep2nonorigin.arff')\n",
        "df_data = pd.DataFrame(raw_data[0])\n",
        "\n",
        "# CHANGE THE VALUES OF THE ROWS OF THE 'class' COLUMN TO BE 1s AND 0s INSTEAD OF \"b'1'\" OR \"b'0'\"\n",
        "df_data['class'] = df_data['class'].astype(int) \n",
        "\n",
        "np_arr = df_data.to_numpy() #cast dataframe to numpy array\n",
        "# np_arr = np.array([[-1,0.4,0.2]])\n",
        "# np_arr = np.array([[.9,.6,0]])\n",
        "cutoff = np_arr.shape[1] - 1 #the index to split the X and y arrays\n",
        "\n",
        "# CUT THE numpy array INTO AN X AND y ARRAY\n",
        "X = np_arr[:,:cutoff] #inputs: from 1st column to cutoff (exclusive)\n",
        "y_2D = np_arr[:,cutoff:] #targets: from cutoff to last column\n",
        "\n",
        "# SET INITIAL WEIGHTS TO ZERO\n",
        "wts = np.zeros((X.shape[1]+1,1)) # weights\n",
        "\n",
        "# TRAIN ON DEBUG DATA\n",
        "mlp = MLP(arch=[2,4,2],epochs=10,lr=0.1,momentum=0.5,shuffle=False)\n",
        "mlp.fit(X=X,y=y_2D,epochs_no_change=11,tol=0.01,default_wts=False,initial_wts=0)\n",
        "\n",
        "\n",
        "\n",
        "# PRINT ACCURACY AND WEIGHTS\n",
        "print('weights:\\n',mlp.get_weights())\n",
        "print('Accuracy = ', mlp.score(X,y_2D))"
      ]
    },
    {
      "cell_type": "markdown",
      "metadata": {
        "id": "kY3VNB1ui03N"
      },
      "source": [
        "### 1.1.2 Evaluation\n",
        "\n",
        "Evaluate your model using the following parameters:\n",
        "\n",
        "Learning Rate = 0.1\\\n",
        "Momentum = 0.5\\\n",
        "Deterministic = 10 [This means run it 10 epochs and should be the same everytime you run it]\\\n",
        "Shuffle = False\\\n",
        "Validation size = 0\\\n",
        "Initial Weights = All zeros\\\n",
        "Hidden Layer Widths = [4]\n",
        "\n",
        "We will evaluate your model based on printed weights after training on the [Evaluation Dataset](https://byu.instructure.com/courses/14142/files?preview=4421294)"
      ]
    },
    {
      "cell_type": "code",
      "execution_count": 80,
      "metadata": {
        "id": "2yAxA78QjDh2",
        "colab": {
          "base_uri": "https://localhost:8080/",
          "height": 357
        },
        "outputId": "279a328d-8675-4b70-b085-4a52a1e1a255"
      },
      "outputs": [
        {
          "output_type": "error",
          "ename": "ValueError",
          "evalue": "ignored",
          "traceback": [
            "\u001b[0;31m---------------------------------------------------------------------------\u001b[0m",
            "\u001b[0;31mValueError\u001b[0m                                Traceback (most recent call last)",
            "\u001b[0;32m<ipython-input-80-60c7ebbc65ac>\u001b[0m in \u001b[0;36m<module>\u001b[0;34m()\u001b[0m\n\u001b[1;32m     12\u001b[0m \u001b[0;31m# Train on evaluation data\u001b[0m\u001b[0;34m\u001b[0m\u001b[0;34m\u001b[0m\u001b[0;34m\u001b[0m\u001b[0m\n\u001b[1;32m     13\u001b[0m \u001b[0mmlp\u001b[0m \u001b[0;34m=\u001b[0m \u001b[0mMLP\u001b[0m\u001b[0;34m(\u001b[0m\u001b[0march\u001b[0m\u001b[0;34m=\u001b[0m\u001b[0;34m[\u001b[0m\u001b[0;36m2\u001b[0m\u001b[0;34m,\u001b[0m\u001b[0;36m4\u001b[0m\u001b[0;34m,\u001b[0m\u001b[0;36m2\u001b[0m\u001b[0;34m]\u001b[0m\u001b[0;34m,\u001b[0m\u001b[0mepochs\u001b[0m\u001b[0;34m=\u001b[0m\u001b[0;36m10\u001b[0m\u001b[0;34m,\u001b[0m\u001b[0mlr\u001b[0m\u001b[0;34m=\u001b[0m\u001b[0;36m0.1\u001b[0m\u001b[0;34m,\u001b[0m\u001b[0mmomentum\u001b[0m\u001b[0;34m=\u001b[0m\u001b[0;36m0.5\u001b[0m\u001b[0;34m,\u001b[0m\u001b[0mshuffle\u001b[0m\u001b[0;34m=\u001b[0m\u001b[0;32mFalse\u001b[0m\u001b[0;34m)\u001b[0m\u001b[0;34m\u001b[0m\u001b[0;34m\u001b[0m\u001b[0m\n\u001b[0;32m---> 14\u001b[0;31m \u001b[0mmlp\u001b[0m\u001b[0;34m.\u001b[0m\u001b[0mfit\u001b[0m\u001b[0;34m(\u001b[0m\u001b[0mX\u001b[0m\u001b[0;34m=\u001b[0m\u001b[0mX\u001b[0m\u001b[0;34m,\u001b[0m\u001b[0my\u001b[0m\u001b[0;34m=\u001b[0m\u001b[0my_2D\u001b[0m\u001b[0;34m,\u001b[0m\u001b[0mepochs_no_change\u001b[0m\u001b[0;34m=\u001b[0m\u001b[0;36m11\u001b[0m\u001b[0;34m,\u001b[0m\u001b[0mtol\u001b[0m\u001b[0;34m=\u001b[0m\u001b[0;36m0.01\u001b[0m\u001b[0;34m,\u001b[0m\u001b[0mdefault_wts\u001b[0m\u001b[0;34m=\u001b[0m\u001b[0;32mFalse\u001b[0m\u001b[0;34m,\u001b[0m\u001b[0minitial_wts\u001b[0m\u001b[0;34m=\u001b[0m\u001b[0;36m0\u001b[0m\u001b[0;34m)\u001b[0m\u001b[0;34m\u001b[0m\u001b[0;34m\u001b[0m\u001b[0m\n\u001b[0m\u001b[1;32m     15\u001b[0m \u001b[0;31m# Print weights\u001b[0m\u001b[0;34m\u001b[0m\u001b[0;34m\u001b[0m\u001b[0;34m\u001b[0m\u001b[0m\n\u001b[1;32m     16\u001b[0m \u001b[0mprint\u001b[0m\u001b[0;34m(\u001b[0m\u001b[0;34m'weights:\\n'\u001b[0m\u001b[0;34m,\u001b[0m\u001b[0mmlp\u001b[0m\u001b[0;34m.\u001b[0m\u001b[0mget_weights\u001b[0m\u001b[0;34m(\u001b[0m\u001b[0;34m)\u001b[0m\u001b[0;34m)\u001b[0m\u001b[0;34m\u001b[0m\u001b[0;34m\u001b[0m\u001b[0m\n",
            "\u001b[0;32m<ipython-input-76-3293743b4a50>\u001b[0m in \u001b[0;36mfit\u001b[0;34m(self, X, y, epochs_no_change, tol, default_wts, initial_wts)\u001b[0m\n\u001b[1;32m     75\u001b[0m             \u001b[0;32mfor\u001b[0m \u001b[0mlay\u001b[0m \u001b[0;32min\u001b[0m \u001b[0mrange\u001b[0m\u001b[0;34m(\u001b[0m\u001b[0;36m0\u001b[0m\u001b[0;34m,\u001b[0m \u001b[0mlen\u001b[0m\u001b[0;34m(\u001b[0m\u001b[0mself\u001b[0m\u001b[0;34m.\u001b[0m\u001b[0mlayer_wts\u001b[0m\u001b[0;34m)\u001b[0m\u001b[0;34m)\u001b[0m\u001b[0;34m:\u001b[0m\u001b[0;34m\u001b[0m\u001b[0;34m\u001b[0m\u001b[0m\n\u001b[1;32m     76\u001b[0m               \u001b[0;32mif\u001b[0m \u001b[0mlay\u001b[0m \u001b[0;34m==\u001b[0m \u001b[0;36m0\u001b[0m\u001b[0;34m:\u001b[0m\u001b[0;34m\u001b[0m\u001b[0;34m\u001b[0m\u001b[0m\n\u001b[0;32m---> 77\u001b[0;31m                 \u001b[0mnet\u001b[0m \u001b[0;34m=\u001b[0m \u001b[0mnp\u001b[0m\u001b[0;34m.\u001b[0m\u001b[0mmatmul\u001b[0m\u001b[0;34m(\u001b[0m\u001b[0mX_bias\u001b[0m\u001b[0;34m[\u001b[0m\u001b[0mrow\u001b[0m\u001b[0;34m]\u001b[0m\u001b[0;34m,\u001b[0m \u001b[0mself\u001b[0m\u001b[0;34m.\u001b[0m\u001b[0mlayer_wts\u001b[0m\u001b[0;34m[\u001b[0m\u001b[0mlay\u001b[0m\u001b[0;34m]\u001b[0m\u001b[0;34m)\u001b[0m\u001b[0;34m\u001b[0m\u001b[0;34m\u001b[0m\u001b[0m\n\u001b[0m\u001b[1;32m     78\u001b[0m                 \u001b[0mnets_by_layer\u001b[0m\u001b[0;34m.\u001b[0m\u001b[0mappend\u001b[0m\u001b[0;34m(\u001b[0m\u001b[0mnet\u001b[0m\u001b[0;34m)\u001b[0m\u001b[0;34m\u001b[0m\u001b[0;34m\u001b[0m\u001b[0m\n\u001b[1;32m     79\u001b[0m                 \u001b[0mZs_lay\u001b[0m \u001b[0;34m=\u001b[0m \u001b[0mv_sigmoid\u001b[0m\u001b[0;34m(\u001b[0m\u001b[0mnet\u001b[0m\u001b[0;34m)\u001b[0m\u001b[0;34m\u001b[0m\u001b[0;34m\u001b[0m\u001b[0m\n",
            "\u001b[0;31mValueError\u001b[0m: matmul: Input operand 1 has a mismatch in its core dimension 0, with gufunc signature (n?,k),(k,m?)->(n?,m?) (size 3 is different from 5)"
          ]
        }
      ],
      "source": [
        "# Load evaluation data\n",
        "raw_data = loadarff('/content/drive/MyDrive/School/CS_472_MachLearning/labs/lab2_backpropagation/data/data_banknote_authentication.arff')\n",
        "df_data = pd.DataFrame(raw_data[0])\n",
        "\n",
        "df_data['class'] = df_data['class'].astype(int) \n",
        "np_arr = df_data.to_numpy() #cast dataframe to numpy array\n",
        "cutoff = np_arr.shape[1] - 1 #the index to split the X and y arrays\n",
        "\n",
        "X = np_arr[:,:cutoff] #inputs: from 1st column to cutoff (exclusive)\n",
        "y_2D = np_arr[:,cutoff:] #targets: from cutoff to last column\n",
        "\n",
        "# Train on evaluation data\n",
        "mlp = MLP(arch=[2,4,2],epochs=10,lr=0.1,momentum=0.5,shuffle=False)\n",
        "mlp.fit(X=X,y=y_2D,epochs_no_change=11,tol=0.01,default_wts=False,initial_wts=0)\n",
        "# Print weights\n",
        "print('weights:\\n',mlp.get_weights())\n",
        "print('Accuracy = ', mlp.score(X,y_2D))"
      ]
    },
    {
      "cell_type": "markdown",
      "metadata": {
        "id": "9vWiTdlbR2Xh"
      },
      "source": [
        "## 2. (10%) Backpropagation on the Iris Classification problem.\n",
        "\n",
        "Load the Iris Dataset [Iris Dataset](https://byu.instructure.com/courses/14142/files?preview=4421369)\n",
        "\n",
        "Parameters:\n",
        "- One layer of hidden nodes with the number of hidden nodes being twice the number of inputs.\n",
        "- Use a 80/20 split of the data for the training/test set.\n",
        "- Use a learning rate of 0.1\n",
        "- Use a validation set (15% of the training set) taken from the training set for your stopping criteria\n",
        "- Create one graph with MSE (mean squared error) over epochs from the training set and validation set\n",
        "- Create one graph with classification accuracy (% classified correctly) over epochs from the training set and validation set\n",
        "- Print out your test set accuracy\n",
        "\n",
        "The results for the different measurables should be shown with a different color, line type, etc. Typical backpropagation accuracies for the Iris data set are 85-95%.\n",
        "\n",
        "---"
      ]
    },
    {
      "cell_type": "code",
      "execution_count": null,
      "metadata": {
        "id": "4SSoasDQSKXb"
      },
      "outputs": [],
      "source": [
        "# Iris Classification"
      ]
    },
    {
      "cell_type": "markdown",
      "metadata": {
        "id": "SIRG42TgSR4x"
      },
      "source": [
        "## 3. (10%) Working with the Vowel Dataset - Learning Rate\n",
        "\n",
        "Load the Vowel Dataset [Vowel Dataset](https://byu.instructure.com/courses/14142/files?preview=4537354)\n",
        "\n",
        "- Use one layer of hidden nodes with the number of hidden nodes being twice the number of inputs.\n",
        "- Use random 80/20 splits of the data for the training/test set.\n",
        "- Use a validation set (15% of the training set) taken from the training set for your stopping criteria\n",
        "- Try some different learning rates (LR). Note that each LR will probably require a different number of epochs to learn. \n",
        "\n",
        "- For each LR you test, plot their validation's set MSE over Epochs on the same graph. Graph 4-5 different LRs and make them different enough to see a difference between them.\n",
        "\n",
        "In general, whenever you are testing a parameter such as LR, # of hidden nodes, etc., test values until no more improvement is found. For example, if 20 hidden nodes did better than 10, you would not stop at 20, but would try 40, etc., until you no longer get improvement.\n",
        "\n",
        "If you would like you may average the results of multiple initial conditions (e.g. 3) per LR, and that obviously would give more accurate results.\n",
        "\n",
        "<img src=https://raw.githubusercontent.com/cs472ta/CS472/master/images/backpropagation/backprop_val_set_MSE_vs_epochs.png width=500 height=500  align=\"left\">"
      ]
    },
    {
      "cell_type": "code",
      "execution_count": null,
      "metadata": {
        "id": "KBGUn43ASiXW"
      },
      "outputs": [],
      "source": [
        "# Train on each dataset"
      ]
    },
    {
      "cell_type": "markdown",
      "metadata": {
        "id": "mOteTlV6S0bq"
      },
      "source": [
        "## 3.1 (5%) Working with the Vowel Dataset - Intuition\n",
        "- Discuss the effect of varying learning rates. \n",
        "- Discuss why the vowel data set might be more difficult than Iris\n",
        "    - Report both datasets' baseline accuracies and best **test** set accuracies. \n",
        "- Consider which of the vowel dataset's given input features you should actually use (Train/test, speaker, gender, ect) and discuss why you chose the ones you did.\n",
        "\n",
        "Typical backpropagation accuracies for the Vowel data set are above 75%.\n",
        "\n"
      ]
    },
    {
      "cell_type": "markdown",
      "metadata": {
        "id": "qmq9GSbJS8k2"
      },
      "source": [
        "*Discuss Intuition here*\n",
        "\n"
      ]
    },
    {
      "cell_type": "markdown",
      "metadata": {
        "id": "LCnyi7wtBTCM"
      },
      "source": [
        "## 3.2 (10%) Working with the Vowel Dataset - Hidden Layer Nodes\n",
        "\n",
        "Using the best LR you discovered, experiment with different numbers of hidden nodes.\n",
        "\n",
        "- Start with 1 hidden node, then 2, and then double them for each test until you get no more improvement in accuracy. \n",
        "- For each number of hidden nodes find the best validation set solution (in terms of validation set MSE).  \n",
        "- Create one graph with MSE for the training set and validation set on the y-axis and # of hidden nodes on the x-axis.\n",
        "- Report the final test set accuracy for every # of hidden nodes you experimented on"
      ]
    },
    {
      "cell_type": "code",
      "execution_count": null,
      "metadata": {
        "id": "V2JTuao6BTCM"
      },
      "outputs": [],
      "source": [
        ""
      ]
    },
    {
      "cell_type": "markdown",
      "metadata": {
        "id": "oXB_e0-5BTCM"
      },
      "source": [
        "*Discuss Hidden Layer Nodes here*\n",
        "\n"
      ]
    },
    {
      "cell_type": "markdown",
      "metadata": {
        "id": "eYuhn1qsBTCM"
      },
      "source": [
        "## 3.3 (10%) Working with the Vowel Dataset - Momentum\n",
        "\n",
        "Try some different momentum terms using the best number of hidden nodes and LR from your earlier experiments.\n",
        "\n",
        "- Create a graph similar to step 3.2, but with momentum on the x-axis and number of epochs until validation set convergence on the y-axis.\n",
        "- For each momentum term, print the test set accuracy. \n",
        "- You are trying to see how much momentum speeds up learning and how it affects accuracy."
      ]
    },
    {
      "cell_type": "code",
      "execution_count": null,
      "metadata": {
        "id": "e8hMcc3kBTCN"
      },
      "outputs": [],
      "source": [
        ""
      ]
    },
    {
      "cell_type": "markdown",
      "metadata": {
        "id": "WEgtEY81BTCN"
      },
      "source": [
        "*Discuss Momentum here*\n",
        "\n"
      ]
    },
    {
      "cell_type": "markdown",
      "metadata": {
        "id": "oBBmeNQ7jvcQ"
      },
      "source": [
        "## 4.1 (10%) Use the scikit-learn (SK) version of the MLP classifier on the Iris and Vowel data sets.  \n",
        "\n",
        "You do not need to go through all the steps above, nor graph results. Compare results (accuracy and learning speed) between your version and theirs for some selection of hyper-parameters. Try different hyper-parameters and comment on their effect.\n",
        "\n",
        "At a minimum, try\n",
        "\n",
        "- number of hidden nodes and layers\n",
        "- different activation functions\n",
        "- learning rate\n",
        "- regularization and parameters\n",
        "- momentum (and try nesterov)\n",
        "- early stopping"
      ]
    },
    {
      "cell_type": "code",
      "execution_count": null,
      "metadata": {
        "id": "OFQv70W2VyqJ"
      },
      "outputs": [],
      "source": [
        "# Load sklearn perceptron\n",
        "\n",
        "# Train on voting dataset"
      ]
    },
    {
      "cell_type": "markdown",
      "metadata": {
        "id": "BqSFAXwlk3Ms"
      },
      "source": [
        "*Record impressions*"
      ]
    },
    {
      "cell_type": "markdown",
      "metadata": {
        "id": "AmDm8gnCBTCO"
      },
      "source": [
        "## 4.2 (5%) Using the Iris Dataset automatically adjust hyper-parameters using your choice of grid/random search\n",
        "- Use a grid or random search approach across a reasonable subset of hyper-parameters from the above \n",
        "- Report your best accuracy and hyper-parameters. "
      ]
    },
    {
      "cell_type": "code",
      "execution_count": null,
      "metadata": {
        "id": "jAyUtXh0BTCO"
      },
      "outputs": [],
      "source": [
        "# Load sklearn perceptron\n",
        "\n",
        "# Train on voting dataset"
      ]
    },
    {
      "cell_type": "markdown",
      "metadata": {
        "id": "cTlK-kijk8Mg"
      },
      "source": [
        "## 5. (Optional 5% Extra credit) For the vowel data set, use the other hyper-parameter approach that you did not use in part 4.2 to find LR, # of hidden nodes, and momentum.  \n",
        "\n",
        "- Compare and discuss the values found with the ones you found in part 3.\n"
      ]
    },
    {
      "cell_type": "code",
      "execution_count": null,
      "metadata": {
        "id": "m9KatPD7BTCP"
      },
      "outputs": [],
      "source": [
        ""
      ]
    },
    {
      "cell_type": "markdown",
      "metadata": {
        "id": "ps3oqZdBBTCP"
      },
      "source": [
        "*Discuss findings here*"
      ]
    }
  ],
  "metadata": {
    "colab": {
      "collapsed_sections": [],
      "name": "lab_2_backprop.ipynb",
      "provenance": [],
      "include_colab_link": true
    },
    "kernelspec": {
      "display_name": "Python 3",
      "language": "python",
      "name": "python3"
    },
    "language_info": {
      "codemirror_mode": {
        "name": "ipython",
        "version": 3
      },
      "file_extension": ".py",
      "mimetype": "text/x-python",
      "name": "python",
      "nbconvert_exporter": "python",
      "pygments_lexer": "ipython3",
      "version": "3.9.0"
    }
  },
  "nbformat": 4,
  "nbformat_minor": 0
}